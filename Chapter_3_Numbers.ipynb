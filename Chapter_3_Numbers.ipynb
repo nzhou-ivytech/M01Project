{
 "cells": [
  {
   "cell_type": "markdown",
   "id": "60ecc314",
   "metadata": {},
   "source": [
    "# Chapter 3: Numbers\n",
    "\n",
    "\"That action is best which procures the greatest happiness for the greatest numbers.\"\n",
    "\n",
    "- Francis Hutcheson\n",
    "\n",
    "In this chapter, we explore Python's simplest built-in data types: Booleans, Integers, and Floats, and how they form the building blocks of Python's data structures."
   ]
  },
  {
   "cell_type": "markdown",
   "id": "71d51960",
   "metadata": {},
   "source": [
    "## Booleans\n",
    "\n",
    "In Python, the boolean data type has two values: `True` and `False`. The `bool()` function converts any Python data type to its boolean equivalent, based on its 'truthiness'."
   ]
  },
  {
   "cell_type": "code",
   "execution_count": 1,
   "id": "ee437ece-bc71-4e2b-a0bc-873f37d3241c",
   "metadata": {},
   "outputs": [
    {
     "data": {
      "text/plain": [
       "True"
      ]
     },
     "execution_count": 1,
     "metadata": {},
     "output_type": "execute_result"
    }
   ],
   "source": [
    "bool(100)"
   ]
  },
  {
   "cell_type": "code",
   "execution_count": 2,
   "id": "49ded42a-54d1-4e08-9fa6-dcdf30dc7f52",
   "metadata": {},
   "outputs": [
    {
     "data": {
      "text/plain": [
       "True"
      ]
     },
     "execution_count": 2,
     "metadata": {},
     "output_type": "execute_result"
    }
   ],
   "source": [
    "bool('abc')"
   ]
  },
  {
   "cell_type": "code",
   "execution_count": 3,
   "id": "c5b4d7ba-0645-4d1d-ad1f-45631e65965f",
   "metadata": {},
   "outputs": [
    {
     "data": {
      "text/plain": [
       "False"
      ]
     },
     "execution_count": 3,
     "metadata": {},
     "output_type": "execute_result"
    }
   ],
   "source": [
    "bool(False)"
   ]
  },
  {
   "cell_type": "code",
   "execution_count": 4,
   "id": "82f956d9-fa79-4cec-bf80-ffd64242450f",
   "metadata": {},
   "outputs": [
    {
     "data": {
      "text/plain": [
       "False"
      ]
     },
     "execution_count": 4,
     "metadata": {},
     "output_type": "execute_result"
    }
   ],
   "source": [
    "bool(0)"
   ]
  },
  {
   "cell_type": "markdown",
   "id": "903f5757",
   "metadata": {},
   "source": [
    "## Integers\n",
    "\n",
    "Integers are whole numbers without a fractional part. This section covers operations with integers and conversion between different numerical bases."
   ]
  },
  {
   "cell_type": "markdown",
   "id": "f1e73215",
   "metadata": {},
   "source": [
    "## Floats\n",
    "\n",
    "Floating-point numbers (floats) include decimal points or exponents. This section explains arithmetic operations with floats and their conversion from other data types."
   ]
  },
  {
   "cell_type": "code",
   "execution_count": null,
   "id": "237e6395",
   "metadata": {},
   "outputs": [],
   "source": [
    "# 3.1 How many seconds are in an hour?\n",
    "seconds_per_hour = 60 * 60\n",
    "print('Seconds in an hour:', seconds_per_hour)"
   ]
  },
  {
   "cell_type": "code",
   "execution_count": null,
   "id": "b9127bd2",
   "metadata": {},
   "outputs": [],
   "source": [
    "# 3.2 Assign the result to a variable called seconds_per_hour\n",
    "seconds_per_hour = 60 * 60"
   ]
  },
  {
   "cell_type": "code",
   "execution_count": null,
   "id": "c30ff6e3",
   "metadata": {},
   "outputs": [],
   "source": [
    "# 3.3 How many seconds are in a day?\n",
    "seconds_per_day = seconds_per_hour * 24\n",
    "print('Seconds in a day:', seconds_per_day)"
   ]
  },
  {
   "cell_type": "code",
   "execution_count": null,
   "id": "a1fa2a27",
   "metadata": {},
   "outputs": [],
   "source": [
    "# 3.5 Divide seconds_per_day by seconds_per_hour using floating-point division\n",
    "print('Hours in a day (floating-point division):', seconds_per_day / seconds_per_hour)"
   ]
  },
  {
   "cell_type": "code",
   "execution_count": null,
   "id": "ca76b369",
   "metadata": {},
   "outputs": [],
   "source": [
    "# 3.6 Divide seconds_per_day by seconds_per_hour using integer division\n",
    "print('Hours in a day (integer division):', seconds_per_day // seconds_per_hour)"
   ]
  }
 ],
 "metadata": {
  "kernelspec": {
   "display_name": "Python 3 (ipykernel)",
   "language": "python",
   "name": "python3"
  },
  "language_info": {
   "codemirror_mode": {
    "name": "ipython",
    "version": 3
   },
   "file_extension": ".py",
   "mimetype": "text/x-python",
   "name": "python",
   "nbconvert_exporter": "python",
   "pygments_lexer": "ipython3",
   "version": "3.11.7"
  }
 },
 "nbformat": 4,
 "nbformat_minor": 5
}
